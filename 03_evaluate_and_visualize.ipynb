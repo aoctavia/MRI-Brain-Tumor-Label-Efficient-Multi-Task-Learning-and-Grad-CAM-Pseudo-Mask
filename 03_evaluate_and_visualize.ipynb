{
  "cells": [
    {
      "cell_type": "markdown",
      "metadata": {},
      "source": [
        "# Evaluate & Visualize\n",
        "\n",
        "This notebook computes the classification report, confusion matrix,\n",
        "and saves a few overlay examples per class.\n"
      ]
    },
    {
      "cell_type": "code",
      "metadata": {},
      "outputs": [],
      "execution_count": null,
      "source": [
        "import os, json, glob\n",
        "import numpy as np\n",
        "import pandas as pd\n",
        "import matplotlib.pyplot as plt\n",
        "from sklearn.metrics import classification_report, confusion_matrix, ConfusionMatrixDisplay\n",
        "import cv2\n",
        "\n",
        "CLASSES = ['glioma','meningioma','no_tumor','pituitary_tumor']\n",
        "\n",
        "# Example: load predictions/targets from CSV if you have it\n",
        "# Expected columns: image_path, y_true (class string), y_pred (class string)\n",
        "csv_path = os.environ.get('EVAL_CSV', 'predictions.csv')\n",
        "if not os.path.exists(csv_path):\n",
        "    # Build a small demo dataframe if CSV not present\n",
        "    data = {\n",
        "        'image_path': [],\n",
        "        'y_true': [],\n",
        "        'y_pred': []\n",
        "    }\n",
        "    df = pd.DataFrame(data)\n",
        "else:\n",
        "    df = pd.read_csv(csv_path)\n",
        "df.head()"
      ]
    },
    {
      "cell_type": "code",
      "metadata": {},
      "outputs": [],
      "execution_count": null,
      "source": [
        "# If you also have per-class probabilities, place them in y_prob_* columns\n",
        "has_probs = all([f'y_prob_{c}' in df.columns for c in CLASSES])\n",
        "y_true = df['y_true'].values if 'y_true' in df.columns else []\n",
        "y_pred = df['y_pred'].values if 'y_pred' in df.columns else []\n",
        "\n",
        "if len(y_true) and len(y_pred):\n",
        "    print(classification_report(y_true, y_pred, labels=CLASSES, digits=4))\n",
        "    cm = confusion_matrix(y_true, y_pred, labels=CLASSES)\n",
        "    disp = ConfusionMatrixDisplay(confusion_matrix=cm, display_labels=CLASSES)\n",
        "    plt.figure()\n",
        "    disp.plot(values_format='d')\n",
        "    plt.title('Confusion Matrix')\n",
        "    plt.show()\n",
        "else:\n",
        "    print('No data rows found (predictions.csv missing). Add your CSV to compute metrics.')"
      ]
    },
    {
      "cell_type": "code",
      "metadata": {},
      "outputs": [],
      "execution_count": null,
      "source": [
        "# Save 3\u20135 examples per class (requires image_path column and optional segmentation masks)\n",
        "OUT_DIR = 'figures_samples'\n",
        "os.makedirs(OUT_DIR, exist_ok=True)\n",
        "\n",
        "def save_example(img_path, out_path):\n",
        "    img = cv2.imread(img_path)\n",
        "    if img is None:\n",
        "        return\n",
        "    cv2.imwrite(out_path, img)\n",
        "\n",
        "if len(y_true):\n",
        "    for c in CLASSES:\n",
        "        sub = df[df['y_true']==c].head(3)  # take first 3\n",
        "        for i, row in sub.iterrows():\n",
        "            ip = row['image_path']\n",
        "            op = os.path.join(OUT_DIR, f'{c}_example_{i}.png')\n",
        "            save_example(ip, op)\n",
        "    print(f'Saved examples to: {OUT_DIR}')\n",
        "else:\n",
        "    print('Add predictions.csv with image_path to export sample figures.')"
      ]
    }
  ],
  "metadata": {
    "kernelspec": {
      "display_name": "Python 3",
      "language": "python",
      "name": "python3"
    },
    "language_info": {
      "name": "python",
      "version": "3.10"
    }
  },
  "nbformat": 4,
  "nbformat_minor": 5
}